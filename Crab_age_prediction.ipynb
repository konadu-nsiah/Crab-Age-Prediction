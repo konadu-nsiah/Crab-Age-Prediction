{
 "cells": [
  {
   "cell_type": "code",
   "execution_count": 275,
   "metadata": {},
   "outputs": [],
   "source": [
    "import pandas as pd\n",
    "import numpy as np\n",
    "from sklearn import linear_model\n",
    "from sklearn.metrics import r2_score,mean_squared_error\n",
    "import seaborn as sns\n",
    "import matplotlib.pyplot as plt\n"
   ]
  },
  {
   "cell_type": "markdown",
   "metadata": {},
   "source": [
    "Reading ou datasets of csv type using pandas library"
   ]
  },
  {
   "cell_type": "code",
   "execution_count": 276,
   "metadata": {},
   "outputs": [
    {
     "data": {
      "text/html": [
       "<div>\n",
       "<style scoped>\n",
       "    .dataframe tbody tr th:only-of-type {\n",
       "        vertical-align: middle;\n",
       "    }\n",
       "\n",
       "    .dataframe tbody tr th {\n",
       "        vertical-align: top;\n",
       "    }\n",
       "\n",
       "    .dataframe thead th {\n",
       "        text-align: right;\n",
       "    }\n",
       "</style>\n",
       "<table border=\"1\" class=\"dataframe\">\n",
       "  <thead>\n",
       "    <tr style=\"text-align: right;\">\n",
       "      <th></th>\n",
       "      <th>Sex</th>\n",
       "      <th>Length</th>\n",
       "      <th>Diameter</th>\n",
       "      <th>Height</th>\n",
       "      <th>Weight</th>\n",
       "      <th>Shucked Weight</th>\n",
       "      <th>Viscera Weight</th>\n",
       "      <th>Shell Weight</th>\n",
       "      <th>Age</th>\n",
       "    </tr>\n",
       "  </thead>\n",
       "  <tbody>\n",
       "    <tr>\n",
       "      <th>0</th>\n",
       "      <td>F</td>\n",
       "      <td>1.4375</td>\n",
       "      <td>1.1750</td>\n",
       "      <td>0.4125</td>\n",
       "      <td>24.635715</td>\n",
       "      <td>12.332033</td>\n",
       "      <td>5.584852</td>\n",
       "      <td>6.747181</td>\n",
       "      <td>9</td>\n",
       "    </tr>\n",
       "    <tr>\n",
       "      <th>1</th>\n",
       "      <td>M</td>\n",
       "      <td>0.8875</td>\n",
       "      <td>0.6500</td>\n",
       "      <td>0.2125</td>\n",
       "      <td>5.400580</td>\n",
       "      <td>2.296310</td>\n",
       "      <td>1.374951</td>\n",
       "      <td>1.559222</td>\n",
       "      <td>6</td>\n",
       "    </tr>\n",
       "    <tr>\n",
       "      <th>2</th>\n",
       "      <td>I</td>\n",
       "      <td>1.0375</td>\n",
       "      <td>0.7750</td>\n",
       "      <td>0.2500</td>\n",
       "      <td>7.952035</td>\n",
       "      <td>3.231843</td>\n",
       "      <td>1.601747</td>\n",
       "      <td>2.764076</td>\n",
       "      <td>6</td>\n",
       "    </tr>\n",
       "    <tr>\n",
       "      <th>3</th>\n",
       "      <td>F</td>\n",
       "      <td>1.1750</td>\n",
       "      <td>0.8875</td>\n",
       "      <td>0.2500</td>\n",
       "      <td>13.480187</td>\n",
       "      <td>4.748541</td>\n",
       "      <td>2.282135</td>\n",
       "      <td>5.244657</td>\n",
       "      <td>10</td>\n",
       "    </tr>\n",
       "    <tr>\n",
       "      <th>4</th>\n",
       "      <td>I</td>\n",
       "      <td>0.8875</td>\n",
       "      <td>0.6625</td>\n",
       "      <td>0.2125</td>\n",
       "      <td>6.903103</td>\n",
       "      <td>3.458639</td>\n",
       "      <td>1.488349</td>\n",
       "      <td>1.700970</td>\n",
       "      <td>6</td>\n",
       "    </tr>\n",
       "  </tbody>\n",
       "</table>\n",
       "</div>"
      ],
      "text/plain": [
       "  Sex  Length  Diameter  Height     Weight  Shucked Weight  Viscera Weight  \\\n",
       "0   F  1.4375    1.1750  0.4125  24.635715       12.332033        5.584852   \n",
       "1   M  0.8875    0.6500  0.2125   5.400580        2.296310        1.374951   \n",
       "2   I  1.0375    0.7750  0.2500   7.952035        3.231843        1.601747   \n",
       "3   F  1.1750    0.8875  0.2500  13.480187        4.748541        2.282135   \n",
       "4   I  0.8875    0.6625  0.2125   6.903103        3.458639        1.488349   \n",
       "\n",
       "   Shell Weight  Age  \n",
       "0      6.747181    9  \n",
       "1      1.559222    6  \n",
       "2      2.764076    6  \n",
       "3      5.244657   10  \n",
       "4      1.700970    6  "
      ]
     },
     "execution_count": 276,
     "metadata": {},
     "output_type": "execute_result"
    }
   ],
   "source": [
    "data = pd.read_csv(\"CrabAgePrediction.csv\")\n",
    "data.head()"
   ]
  },
  {
   "cell_type": "markdown",
   "metadata": {},
   "source": [
    "Our dataset are of different datatypes so we would like to see the data types for each column."
   ]
  },
  {
   "cell_type": "code",
   "execution_count": 277,
   "metadata": {},
   "outputs": [
    {
     "name": "stdout",
     "output_type": "stream",
     "text": [
      "<class 'pandas.core.frame.DataFrame'>\n",
      "RangeIndex: 3893 entries, 0 to 3892\n",
      "Data columns (total 9 columns):\n",
      " #   Column          Non-Null Count  Dtype  \n",
      "---  ------          --------------  -----  \n",
      " 0   Sex             3893 non-null   object \n",
      " 1   Length          3893 non-null   float64\n",
      " 2   Diameter        3893 non-null   float64\n",
      " 3   Height          3893 non-null   float64\n",
      " 4   Weight          3893 non-null   float64\n",
      " 5   Shucked Weight  3893 non-null   float64\n",
      " 6   Viscera Weight  3893 non-null   float64\n",
      " 7   Shell Weight    3893 non-null   float64\n",
      " 8   Age             3893 non-null   int64  \n",
      "dtypes: float64(7), int64(1), object(1)\n",
      "memory usage: 273.9+ KB\n"
     ]
    }
   ],
   "source": [
    "\n",
    "data.info()"
   ]
  },
  {
   "cell_type": "markdown",
   "metadata": {},
   "source": [
    "In this model, we will be using linear regression to predict the ages of crab based on it's Length, Diameter, Height, Weight, Shucked Weight, Viscera Weight, and Shell Weight.\n",
    "To avoid encountering errors with datatypes, we would convert the Age column to float for the purpose of this model."
   ]
  },
  {
   "cell_type": "code",
   "execution_count": 278,
   "metadata": {},
   "outputs": [
    {
     "name": "stdout",
     "output_type": "stream",
     "text": [
      "<class 'pandas.core.frame.DataFrame'>\n",
      "RangeIndex: 3893 entries, 0 to 3892\n",
      "Data columns (total 9 columns):\n",
      " #   Column          Non-Null Count  Dtype  \n",
      "---  ------          --------------  -----  \n",
      " 0   Sex             3893 non-null   object \n",
      " 1   Length          3893 non-null   float64\n",
      " 2   Diameter        3893 non-null   float64\n",
      " 3   Height          3893 non-null   float64\n",
      " 4   Weight          3893 non-null   float64\n",
      " 5   Shucked Weight  3893 non-null   float64\n",
      " 6   Viscera Weight  3893 non-null   float64\n",
      " 7   Shell Weight    3893 non-null   float64\n",
      " 8   Age             3893 non-null   float64\n",
      "dtypes: float64(8), object(1)\n",
      "memory usage: 273.9+ KB\n"
     ]
    }
   ],
   "source": [
    "data['Age']=data['Age'].astype(float) # changed the dtype of age from int to float\n",
    "data.info()"
   ]
  },
  {
   "cell_type": "markdown",
   "metadata": {},
   "source": [
    "We will now split the data set into x and y values because for linear regression we need x and y values."
   ]
  },
  {
   "cell_type": "code",
   "execution_count": 279,
   "metadata": {},
   "outputs": [],
   "source": [
    "x=data.iloc[:,1:-1]\n",
    "y=data.iloc[:,8]"
   ]
  },
  {
   "cell_type": "code",
   "execution_count": 280,
   "metadata": {},
   "outputs": [
    {
     "name": "stdout",
     "output_type": "stream",
     "text": [
      "X contains (3893, 7) rows and columns respectively\n",
      "y contains (3893,) rows and columns respectively\n"
     ]
    }
   ],
   "source": [
    "print(\"X contains\",x.shape,\"rows and columns respectively\")\n",
    "print(\"y contains\",y.shape,\"rows and columns respectively\")\n"
   ]
  },
  {
   "cell_type": "markdown",
   "metadata": {},
   "source": [
    "We will now splt the x and y values further into training and testing datasets in the ratio of 80:20 respectively"
   ]
  },
  {
   "cell_type": "code",
   "execution_count": 281,
   "metadata": {},
   "outputs": [],
   "source": [
    "from sklearn.model_selection import train_test_split"
   ]
  },
  {
   "cell_type": "code",
   "execution_count": 282,
   "metadata": {},
   "outputs": [],
   "source": [
    "x_train,x_test,y_train,y_test=train_test_split(x,y,test_size=0.2)"
   ]
  },
  {
   "cell_type": "markdown",
   "metadata": {},
   "source": [
    "Building our linear regression model"
   ]
  },
  {
   "cell_type": "code",
   "execution_count": 283,
   "metadata": {},
   "outputs": [],
   "source": [
    "model= linear_model.LinearRegression()"
   ]
  },
  {
   "cell_type": "code",
   "execution_count": 284,
   "metadata": {},
   "outputs": [],
   "source": [
    "model=model.fit(x_train,y_train) #training the model withe the training data sets"
   ]
  },
  {
   "cell_type": "code",
   "execution_count": 285,
   "metadata": {},
   "outputs": [],
   "source": [
    "y_predict=model.predict(x_test)"
   ]
  },
  {
   "cell_type": "code",
   "execution_count": 286,
   "metadata": {},
   "outputs": [
    {
     "name": "stdout",
     "output_type": "stream",
     "text": [
      "coefficients: [-0.63603227  5.38197438  3.87896255  0.30100696 -0.68324292 -0.3205738\n",
      "  0.33898505]\n",
      "Intercept: 3.1428325086672118\n",
      "Mean squared error (MSE):4.95\n",
      "Coefficient of determination (R^2): 0.55\n"
     ]
    }
   ],
   "source": [
    "print('coefficients:', model.coef_)\n",
    "print('Intercept:', model.intercept_)\n",
    "print('Mean squared error (MSE):%.2f' % mean_squared_error(y_test,y_predict))\n",
    "print('Coefficient of determination (R^2): %.2f' % r2_score(y_test,y_predict))"
   ]
  },
  {
   "cell_type": "code",
   "execution_count": 287,
   "metadata": {},
   "outputs": [
    {
     "name": "stdout",
     "output_type": "stream",
     "text": [
      "3407     8.0\n",
      "1232     4.0\n",
      "3434     6.0\n",
      "600      8.0\n",
      "1206     7.0\n",
      "        ... \n",
      "317     18.0\n",
      "142      8.0\n",
      "1751    10.0\n",
      "1117     7.0\n",
      "3334     6.0\n",
      "Name: Age, Length: 779, dtype: float64\n",
      "[ 8.63920553  5.92491201  7.5362989   8.21259022  7.20789589  9.63901253\n",
      "  8.15501843  9.76513999 10.77852867 12.02299909  7.08386584  8.92506785\n",
      " 11.28471372  6.33743953 10.35409644  9.71557727 13.19610962  6.96299205\n",
      "  9.35030088 10.1832654  15.35343161 10.23420738  8.79004913  9.05939818\n",
      " 11.90983294 11.24018151  7.76898489 12.10475505 11.78759378  9.71996093\n",
      "  7.46680138 12.46268043  9.20335485  8.85129928 12.43009758  8.63841585\n",
      "  8.79056027 11.98408472 10.64831604  9.24081743  8.30438623  7.98141632\n",
      " 11.22795117  8.9101909  10.35031391  6.11238864  9.63626805  8.87773318\n",
      "  8.37246227  9.79872924  8.06411169 12.09071921 12.45297703  6.3728971\n",
      " 12.75589869 12.24828543  6.55732408 11.88712741 11.83758082 12.61598795\n",
      " 11.93880326 12.31264561  6.96400372  9.36174306  8.42252423  6.84973456\n",
      "  9.01683509  7.69119    10.4791952   6.24576913  9.28829209 10.51327702\n",
      "  9.05657012 15.6864264   8.5088675  10.12446089 11.78251038  7.1406263\n",
      "  7.22435867  7.70139459  9.3075361   9.20720951 12.49906273  7.36587902\n",
      "  8.84263652  9.1650411   9.4036957   8.4101173  13.37816724  5.10750551\n",
      " 10.50414877 10.9071945  10.74612885  9.49162399 10.28459481  8.32551271\n",
      "  9.57138747 13.19121888  9.91598614  8.62028286 13.13172444 11.19553038\n",
      "  8.53864637  9.0578104  12.84768879 12.24146181  7.59866364  6.9414627\n",
      " 16.09812631  6.89168882  8.45961791  8.59790262 10.54669833 10.16713905\n",
      "  7.18162741 13.59442642  9.96622548  6.80914868 11.59528656  9.4210351\n",
      "  9.63639178  9.2735373  13.4654582   7.34956157 10.83844971  9.03810036\n",
      "  7.81032409 10.01829788 10.64097234  9.14575634 13.0368983   8.25726233\n",
      "  8.6455252  10.11682043 11.14315156  4.42210184  7.79958292  7.82285078\n",
      "  9.15445064  9.08529348  8.76662058 10.33930843 10.85758492  6.02570986\n",
      "  9.0887222  12.60261479 13.82458433  8.11488555  9.94025761 11.98266824\n",
      "  9.43644095 11.59984341  9.42576972  8.92145652  6.91053548  9.82827914\n",
      " 11.66673894 12.12510221 13.35160101 10.23222445 13.95791627  5.01127349\n",
      "  7.09928659 12.82580469  4.88350431  4.54478479 14.80464683 13.70114226\n",
      "  8.84525331  9.68950929 10.33951542 10.93271411  9.3232069   7.86685461\n",
      " 12.04453746  8.33661384  9.37764163  8.49577004 13.16194354  6.77223256\n",
      "  6.86340743  7.60025349  6.95820419 12.59455311 16.9265856  11.72589986\n",
      "  5.46312671 12.77913009 11.12086166 10.74571793 10.55710685 13.29266057\n",
      "  4.60748469  6.72484643  9.75109151  8.87435893 10.98512429 11.07042144\n",
      "  8.46178702 10.44161779 17.87359093  7.55908116 10.10744396  9.58260499\n",
      " 12.70040551  9.971487    7.36588396  6.96850573 10.27881587 11.99559024\n",
      "  9.90892048  9.58087697 12.68348287  8.54280732 14.29959088 11.51073175\n",
      "  6.42495449 12.01419572  7.25325368 10.93101676 10.50070079 12.88217376\n",
      " 11.51838102 12.28233683 10.67833752 11.99382081  8.07645583  9.50861779\n",
      " 10.91084615  6.29445739  9.06104681 10.97535201  8.01003447  9.49435649\n",
      "  9.20395143  8.43272439  7.36212066  6.71938378 13.22363755  9.6546341\n",
      " 10.91679817  9.00645363 12.42013199  7.45335629 10.18697584  7.5486699\n",
      "  6.2022717   7.21291718 10.16934598  9.6657742  11.06728558  8.48595868\n",
      " 13.63416506 10.77894009  9.03602068 10.84776658  6.26171634  8.8568651\n",
      "  8.25120109 11.19459575  8.82418994 14.12818958  6.76070744  9.99585721\n",
      " 16.37106371  8.11045315 12.41713992  6.85082666  9.60956346 12.94923101\n",
      "  9.36452412  7.96482975  8.0679624  10.79221546 15.88257462 12.3640672\n",
      " 10.58231738  9.03125269 15.36816184 10.01500506  6.65790005 11.71862681\n",
      "  8.87466811  7.54958133  8.70185046 10.71227583  7.0445612  10.11536886\n",
      "  8.92389813 10.96123705 10.02094145  6.23166217  7.34100817 13.71741619\n",
      "  8.80860213  3.86814023 10.2331823  18.08583154 11.82596954  9.66600179\n",
      "  8.54545315 12.17774113 12.33875569  9.8305056   7.67973927 10.72597795\n",
      "  9.0034995  10.73097149  9.00889376 11.76070392  9.91626981  8.57273104\n",
      " 10.72530863  8.32110257 13.50904668 10.24867672 10.58790127 14.54880577\n",
      "  9.99942495 10.37943506 10.42412337  5.50376354  8.61639596 12.93276565\n",
      "  7.37992949 12.16615646 11.56850489 12.69895896  9.79835474 12.20362984\n",
      "  6.44465589 11.47025206 13.91407429 11.84159594 11.67366363 14.17726283\n",
      "  9.43573787  9.88389739 11.74869438 10.38516261 10.43458496 11.33849405\n",
      "  9.74130323 11.75635639 12.39447769  9.59816726  8.18794936 11.78632746\n",
      "  6.25446449 11.18786392  8.70512182  7.56201454  9.79441368 10.36340215\n",
      "  7.00982785 12.24270871 14.57783965  5.8829058   6.1153758  10.11565907\n",
      " 13.07444867 11.05772753 10.62212381  9.68417488 10.67349789  7.97996223\n",
      "  8.49197291 10.91889611 10.45710847  9.90016923 10.24848369  6.77545525\n",
      " 13.888277    6.67321648  8.72302579  7.44130619  9.88028673  7.93220908\n",
      "  8.59394416 10.8434995   8.5871896   8.57793536  8.61309714  8.79899293\n",
      " 12.86685206 10.99787402 10.47866692  7.74401742 12.32167767  6.09202525\n",
      "  7.08972944 11.3506898   9.87318745 12.62264247  7.4395137  12.24791502\n",
      " 16.79742683 11.48268407  8.15939473 12.54786553 18.04583843  9.78155741\n",
      " 13.87200702 11.66981775 10.12462254 12.94967281 10.04318971  9.1269424\n",
      " 11.90433066 10.2126222  10.37487883  9.50874375  7.06929423  9.91219371\n",
      "  5.35467917 11.63981556  9.99632837  9.36755649  7.9255427   9.23525987\n",
      "  9.71708088 11.23458601 10.02488815  4.61123537 11.0246381  10.32717732\n",
      "  5.80582307  8.72633898  7.64211416  8.4407914   9.38718693 10.10782351\n",
      " 11.56385958 11.44443705  8.55272392  9.36540129 10.36844144  8.80713908\n",
      "  6.80408866  7.80095885  7.79622524  9.25134765 20.95020648  9.38178453\n",
      "  9.70075011 13.72714529 10.39663504 10.7339545   8.1538497  12.17444124\n",
      "  9.0967537  12.13179801 10.00872882  8.48461737  9.67721158  9.27058449\n",
      " 16.84105494  8.60065354  8.54275175 10.75148368  9.52395122 15.51556579\n",
      "  7.2194583   7.19106944  7.73733182 10.21558331 12.8027185   7.59263528\n",
      "  8.3469137   9.2889495  10.30210907  9.93865216 10.07466368 11.59899313\n",
      "  9.43751614  7.44806125 12.06291726 12.09084423  7.80105325 11.43455753\n",
      "  7.63024795 10.04164448 12.09071188  5.75385332 10.85649631  9.63629645\n",
      "  8.09793725  9.22389718  9.30733145  9.11606412 10.86958159  8.62385319\n",
      "  8.87308791  5.99579531 13.63871774 12.45926347 10.93719525 11.43307499\n",
      " 11.86250149  6.33170964 11.94195452  9.53827827 12.32482233  8.55045711\n",
      " 10.17332605 10.86057168  6.31340545 10.40149507 11.69674801  8.6261864\n",
      " 12.99251622  8.38645184 13.77345292 10.70861369 14.18671287 12.47337167\n",
      "  6.88905303  9.28445409  8.48645467  8.392218   12.55325785  7.07967651\n",
      "  7.96829499 11.36040691 11.71651666 12.05690888  8.04257276  8.1299377\n",
      " 10.89124011  8.0976117   8.22810066 10.14752574 10.94341344  9.47350823\n",
      "  7.24389396  8.64677306  8.9698099  17.19292093  9.58344108 10.95788643\n",
      " 10.70368437  7.88603805  6.29389542  6.54250697  6.00838298  7.94749608\n",
      "  7.85524031 13.32879745 10.67459619 10.88023735  8.96641048 13.62735237\n",
      " 10.24637016  9.51462569 11.7179764  10.35600816  8.34905795  9.50370903\n",
      " 11.76530368  9.98799211 13.32771391 11.46115261  8.5785765   9.54146258\n",
      "  7.71564009  9.34161685  9.2303689  14.19493767 10.3042946   6.17032702\n",
      "  8.23456794  7.69998608 10.17576673 11.25446791  8.59534127 10.50829283\n",
      " 11.96311888 13.07423561  9.43741421  5.14084747  9.97503065 12.82876276\n",
      " 11.42829129  6.79131038 13.99141907  9.52682862 13.95131364  8.19834672\n",
      " 14.45102278  9.40745077  9.00256988 12.59015706  7.64994273 10.49593372\n",
      "  6.43918191  9.2619933   7.23320206 11.73019129  9.62334405  7.91244694\n",
      "  5.12195585  9.25531598  6.20000372  9.15228607 11.727742   14.2378418\n",
      "  9.76912892 10.32103249  9.9983911  10.92993382  9.88504077 11.16298381\n",
      " 10.03737169  9.54753771 10.238987    8.43863314 13.14033722  9.67240614\n",
      "  9.66780626  7.14449654  9.591007    7.82590199  9.81742005  7.51245863\n",
      " 12.62680105 12.14330623  8.58375952 13.34365071  6.35968929  9.31433889\n",
      "  7.23334742 13.26797277 12.32102541 10.81049474  9.37328045 10.45600745\n",
      " 11.00296962 11.84843351  8.72971508  6.81723261  9.26605641 14.97167006\n",
      " 14.06981896  7.0980661   9.67634519 12.72376248  5.12749366  9.70815068\n",
      " 10.50910525 11.30193167  8.13398643 13.79179132 13.43976045 13.15323626\n",
      "  9.54881454  7.7186631   8.91189813  9.15457105 12.25335306  8.46065392\n",
      "  9.97128908 12.20303267  9.21851947 10.87839023  9.07749211  8.87396648\n",
      "  8.96549507  7.00910812 10.87327969  9.13653063 10.73920806 10.30170756\n",
      "  8.4775192   8.59534666  6.59845915  8.83046699  9.0882792  11.94697659\n",
      " 10.1203137  10.46850454  8.57856874 10.76416978  6.41680985 12.02764405\n",
      " 10.884567   11.52115999 13.436418    6.74982554 11.21903785  9.31462481\n",
      " 11.19242553  9.07712365  9.76274752 10.15592147 10.54171385 10.30208504\n",
      " 11.07101006  9.80440128  9.55820108  9.07723039  7.82709173 12.33855215\n",
      "  9.26322578  7.65634915  9.8801095  12.44677523  6.80273152  6.37643501\n",
      " 14.4062261  10.34479511  8.39386822  7.93204587 10.4916663   9.35790961\n",
      "  9.27330911  9.84319006 15.32851115 18.87549214 10.86603943 11.13434396\n",
      " 13.20238968  8.01566716 10.7417983   6.71727391 10.84180913 10.7322851\n",
      "  9.43271726 11.93254569  9.63335396 10.27101498  9.78415593 11.69288554\n",
      "  8.8670606   6.46423394 10.08514085  8.41843035 12.16439868  9.28040728\n",
      " 10.48190915 11.77559215  8.18408803  8.06078898  9.4078957  12.65659723\n",
      "  9.10267603 11.74515388  9.96095901 12.60688423  8.83167701  9.11979893\n",
      "  9.59667788 11.25780899  8.36503404 12.79997426 10.65862599 11.05504923\n",
      " 10.62730275  9.14179807 16.07423629  5.93980259 11.70840963 13.6100252\n",
      "  9.42737426  8.37766322  6.09886483 12.2839111   6.671309    8.66207415\n",
      " 10.34893265 18.48096568  7.73358539 11.02857972 11.29607484 15.45521743\n",
      " 11.52568305  8.19736978 11.48515511  7.08597354  7.09368565]\n"
     ]
    }
   ],
   "source": [
    "print(y_test)\n",
    "print(y_predict)"
   ]
  },
  {
   "cell_type": "code",
   "execution_count": 288,
   "metadata": {},
   "outputs": [
    {
     "data": {
      "text/plain": [
       "<Axes: xlabel='Age'>"
      ]
     },
     "execution_count": 288,
     "metadata": {},
     "output_type": "execute_result"
    },
    {
     "data": {
      "image/png": "[encoded data removed]",
      "text/plain": [
       "<Figure size 640x480 with 1 Axes>"
      ]
     },
     "metadata": {},
     "output_type": "display_data"
    }
   ],
   "source": [
    "sns.scatterplot(x=y_test,y=y_predict)"
   ]
  }
 ],
 "metadata": {
  "kernelspec": {
   "display_name": "env",
   "language": "python",
   "name": "python3"
  },
  "language_info": {
   "codemirror_mode": {
    "name": "ipython",
    "version": 3
   },
   "file_extension": ".py",
   "mimetype": "text/x-python",
   "name": "python",
   "nbconvert_exporter": "python",
   "pygments_lexer": "ipython3",
   "version": "3.12.2"
  }
 },
 "nbformat": 4,
 "nbformat_minor": 2
}
